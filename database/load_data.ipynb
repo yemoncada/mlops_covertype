{
 "cells": [
  {
   "cell_type": "code",
   "execution_count": 2,
   "metadata": {},
   "outputs": [],
   "source": [
    "import sqlalchemy as db\n",
    "from sqlalchemy import create_engine, text\n",
    "\n",
    "from sklearn.metrics import accuracy_score\n",
    "from sklearn.model_selection import train_test_split\n",
    "from sklearn.ensemble import RandomForestClassifier\n",
    "\n",
    "import pandas as pd\n",
    "import seaborn as sns\n",
    "import joblib\n",
    "import os\n",
    "\n",
    "df = pd.read_csv('data/covertype_train.csv')"
   ]
  },
  {
   "cell_type": "code",
   "execution_count": 18,
   "metadata": {},
   "outputs": [],
   "source": [
    "from sklearn.preprocessing import StandardScaler\n",
    "\n",
    "def process_data(df):\n",
    "    #Cambiamos los valores nan por la media de cada variable\n",
    "    df.fillna(df.mean())\n",
    "\n",
    "    df_norm = df.drop('Cover_Type', axis=1)\n",
    "    y = df['Cover_Type']\n",
    "\n",
    "    # Instanciar la clase StandardScaler\n",
    "    scaler = StandardScaler()\n",
    "\n",
    "    #normalizamos el dataframe\n",
    "    X_norm = pd.DataFrame(scaler.fit_transform(df_norm), columns=df_norm.columns)\n",
    "\n",
    "    #unimos la variable objetivo con el dataframe normalizado\n",
    "    df_norm = pd.concat([X_norm, y], axis=1)\n",
    "    \n",
    "    return df_norm"
   ]
  },
  {
   "cell_type": "code",
   "execution_count": 19,
   "metadata": {},
   "outputs": [],
   "source": [
    "df.to_sql(con=engine, index_label='id', name='penguins_data', if_exists='replace')\n",
    "df_db = pd.read_sql_query(sql=text(query), con=conn)"
   ]
  },
  {
   "cell_type": "code",
   "execution_count": 31,
   "metadata": {},
   "outputs": [],
   "source": [
    "# Configuración de la base de datos\n",
    "database_username = 'root'\n",
    "database_password = 'topicosIA'\n",
    "database_host = '10.43.102.112'\n",
    "database_port = '3306'\n",
    "database_name = 'topicosIA'\n",
    "\n",
    "# # Conexión a la base de datos\n",
    "connection_string = f\"mysql+pymysql://{database_username}:{database_password}@{database_host}:{database_port}/{database_name}\"\n",
    "engine = create_engine(connection_string)\n",
    "\n",
    "with engine.connect() as conn:\n",
    "    data = 'covertype_data'\n",
    "    query = 'SELECT species, island, culmen_length_mm, culmen_depth_mm, flipper_length_mm, body_mass_g, sex FROM '+data\n",
    "\n",
    "df.to_sql(con=engine, name='covertype_data', if_exists='replace')"
   ]
  },
  {
   "cell_type": "code",
   "execution_count": 33,
   "metadata": {},
   "outputs": [
    {
     "data": {
      "text/plain": [
       "Index(['Elevation', 'Slope', 'Horizontal_Distance_To_Hydrology',\n",
       "       'Vertical_Distance_To_Hydrology', 'Horizontal_Distance_To_Roadways',\n",
       "       'Hillshade_9am', 'Hillshade_Noon', 'Horizontal_Distance_To_Fire_Points',\n",
       "       'Cover_Type'],\n",
       "      dtype='object')"
      ]
     },
     "execution_count": 33,
     "metadata": {},
     "output_type": "execute_result"
    }
   ],
   "source": [
    "df.columns"
   ]
  },
  {
   "cell_type": "code",
   "execution_count": 34,
   "metadata": {},
   "outputs": [],
   "source": [
    "query = 'SELECT Elevation, Slope, Horizontal_Distance_To_Hydrology, Vertical_Distance_To_Hydrology, Horizontal_Distance_To_Roadways, Hillshade_9am, Hillshade_Noon, Horizontal_Distance_To_Fire_Points, Cover_Type FROM covertype_data'\n",
    "\n",
    "with engine.begin() as conn:\n",
    "  df_db = pd.read_sql_query(sql=text(query), con=conn)"
   ]
  },
  {
   "cell_type": "code",
   "execution_count": 35,
   "metadata": {},
   "outputs": [
    {
     "data": {
      "text/html": [
       "<div>\n",
       "<style scoped>\n",
       "    .dataframe tbody tr th:only-of-type {\n",
       "        vertical-align: middle;\n",
       "    }\n",
       "\n",
       "    .dataframe tbody tr th {\n",
       "        vertical-align: top;\n",
       "    }\n",
       "\n",
       "    .dataframe thead th {\n",
       "        text-align: right;\n",
       "    }\n",
       "</style>\n",
       "<table border=\"1\" class=\"dataframe\">\n",
       "  <thead>\n",
       "    <tr style=\"text-align: right;\">\n",
       "      <th></th>\n",
       "      <th>Elevation</th>\n",
       "      <th>Slope</th>\n",
       "      <th>Horizontal_Distance_To_Hydrology</th>\n",
       "      <th>Vertical_Distance_To_Hydrology</th>\n",
       "      <th>Horizontal_Distance_To_Roadways</th>\n",
       "      <th>Hillshade_9am</th>\n",
       "      <th>Hillshade_Noon</th>\n",
       "      <th>Horizontal_Distance_To_Fire_Points</th>\n",
       "      <th>Cover_Type</th>\n",
       "    </tr>\n",
       "  </thead>\n",
       "  <tbody>\n",
       "    <tr>\n",
       "      <th>0</th>\n",
       "      <td>2991</td>\n",
       "      <td>7</td>\n",
       "      <td>67</td>\n",
       "      <td>11</td>\n",
       "      <td>1015</td>\n",
       "      <td>233</td>\n",
       "      <td>234</td>\n",
       "      <td>1570</td>\n",
       "      <td>1</td>\n",
       "    </tr>\n",
       "    <tr>\n",
       "      <th>1</th>\n",
       "      <td>2876</td>\n",
       "      <td>18</td>\n",
       "      <td>485</td>\n",
       "      <td>71</td>\n",
       "      <td>2495</td>\n",
       "      <td>192</td>\n",
       "      <td>202</td>\n",
       "      <td>1557</td>\n",
       "      <td>1</td>\n",
       "    </tr>\n",
       "    <tr>\n",
       "      <th>2</th>\n",
       "      <td>3171</td>\n",
       "      <td>2</td>\n",
       "      <td>277</td>\n",
       "      <td>9</td>\n",
       "      <td>4374</td>\n",
       "      <td>213</td>\n",
       "      <td>237</td>\n",
       "      <td>1052</td>\n",
       "      <td>0</td>\n",
       "    </tr>\n",
       "    <tr>\n",
       "      <th>3</th>\n",
       "      <td>3087</td>\n",
       "      <td>13</td>\n",
       "      <td>190</td>\n",
       "      <td>31</td>\n",
       "      <td>4774</td>\n",
       "      <td>193</td>\n",
       "      <td>221</td>\n",
       "      <td>752</td>\n",
       "      <td>0</td>\n",
       "    </tr>\n",
       "    <tr>\n",
       "      <th>4</th>\n",
       "      <td>2835</td>\n",
       "      <td>10</td>\n",
       "      <td>212</td>\n",
       "      <td>41</td>\n",
       "      <td>3596</td>\n",
       "      <td>231</td>\n",
       "      <td>242</td>\n",
       "      <td>3280</td>\n",
       "      <td>1</td>\n",
       "    </tr>\n",
       "    <tr>\n",
       "      <th>...</th>\n",
       "      <td>...</td>\n",
       "      <td>...</td>\n",
       "      <td>...</td>\n",
       "      <td>...</td>\n",
       "      <td>...</td>\n",
       "      <td>...</td>\n",
       "      <td>...</td>\n",
       "      <td>...</td>\n",
       "      <td>...</td>\n",
       "    </tr>\n",
       "    <tr>\n",
       "      <th>116198</th>\n",
       "      <td>3150</td>\n",
       "      <td>16</td>\n",
       "      <td>285</td>\n",
       "      <td>47</td>\n",
       "      <td>2275</td>\n",
       "      <td>200</td>\n",
       "      <td>253</td>\n",
       "      <td>866</td>\n",
       "      <td>1</td>\n",
       "    </tr>\n",
       "    <tr>\n",
       "      <th>116199</th>\n",
       "      <td>3125</td>\n",
       "      <td>13</td>\n",
       "      <td>234</td>\n",
       "      <td>2</td>\n",
       "      <td>2430</td>\n",
       "      <td>224</td>\n",
       "      <td>212</td>\n",
       "      <td>1426</td>\n",
       "      <td>0</td>\n",
       "    </tr>\n",
       "    <tr>\n",
       "      <th>116200</th>\n",
       "      <td>3166</td>\n",
       "      <td>11</td>\n",
       "      <td>67</td>\n",
       "      <td>0</td>\n",
       "      <td>1275</td>\n",
       "      <td>234</td>\n",
       "      <td>240</td>\n",
       "      <td>2404</td>\n",
       "      <td>0</td>\n",
       "    </tr>\n",
       "    <tr>\n",
       "      <th>116201</th>\n",
       "      <td>3154</td>\n",
       "      <td>14</td>\n",
       "      <td>738</td>\n",
       "      <td>46</td>\n",
       "      <td>6012</td>\n",
       "      <td>181</td>\n",
       "      <td>239</td>\n",
       "      <td>1320</td>\n",
       "      <td>1</td>\n",
       "    </tr>\n",
       "    <tr>\n",
       "      <th>116202</th>\n",
       "      <td>3031</td>\n",
       "      <td>4</td>\n",
       "      <td>426</td>\n",
       "      <td>11</td>\n",
       "      <td>1565</td>\n",
       "      <td>227</td>\n",
       "      <td>237</td>\n",
       "      <td>1388</td>\n",
       "      <td>1</td>\n",
       "    </tr>\n",
       "  </tbody>\n",
       "</table>\n",
       "<p>116203 rows × 9 columns</p>\n",
       "</div>"
      ],
      "text/plain": [
       "        Elevation  Slope  Horizontal_Distance_To_Hydrology  \\\n",
       "0            2991      7                                67   \n",
       "1            2876     18                               485   \n",
       "2            3171      2                               277   \n",
       "3            3087     13                               190   \n",
       "4            2835     10                               212   \n",
       "...           ...    ...                               ...   \n",
       "116198       3150     16                               285   \n",
       "116199       3125     13                               234   \n",
       "116200       3166     11                                67   \n",
       "116201       3154     14                               738   \n",
       "116202       3031      4                               426   \n",
       "\n",
       "        Vertical_Distance_To_Hydrology  Horizontal_Distance_To_Roadways  \\\n",
       "0                                   11                             1015   \n",
       "1                                   71                             2495   \n",
       "2                                    9                             4374   \n",
       "3                                   31                             4774   \n",
       "4                                   41                             3596   \n",
       "...                                ...                              ...   \n",
       "116198                              47                             2275   \n",
       "116199                               2                             2430   \n",
       "116200                               0                             1275   \n",
       "116201                              46                             6012   \n",
       "116202                              11                             1565   \n",
       "\n",
       "        Hillshade_9am  Hillshade_Noon  Horizontal_Distance_To_Fire_Points  \\\n",
       "0                 233             234                                1570   \n",
       "1                 192             202                                1557   \n",
       "2                 213             237                                1052   \n",
       "3                 193             221                                 752   \n",
       "4                 231             242                                3280   \n",
       "...               ...             ...                                 ...   \n",
       "116198            200             253                                 866   \n",
       "116199            224             212                                1426   \n",
       "116200            234             240                                2404   \n",
       "116201            181             239                                1320   \n",
       "116202            227             237                                1388   \n",
       "\n",
       "        Cover_Type  \n",
       "0                1  \n",
       "1                1  \n",
       "2                0  \n",
       "3                0  \n",
       "4                1  \n",
       "...            ...  \n",
       "116198           1  \n",
       "116199           0  \n",
       "116200           0  \n",
       "116201           1  \n",
       "116202           1  \n",
       "\n",
       "[116203 rows x 9 columns]"
      ]
     },
     "execution_count": 35,
     "metadata": {},
     "output_type": "execute_result"
    }
   ],
   "source": [
    "df_db"
   ]
  },
  {
   "cell_type": "code",
   "execution_count": null,
   "metadata": {},
   "outputs": [],
   "source": [
    "engine = create_engine(\n",
    "            \"mysql+pymysql://\" + os.environ[\"USER_DB\"] + \":\" + os.environ[\"PASS_DB\"] + \"@\" + os.environ[\"IP_SERVER\"] + \"/\" + os.environ[\"NAME_DB\"])\n",
    "with engine.connect() as conn:"
   ]
  },
  {
   "cell_type": "code",
   "execution_count": 36,
   "metadata": {},
   "outputs": [
    {
     "data": {
      "text/plain": [
       "'covertype_data'"
      ]
     },
     "execution_count": 36,
     "metadata": {},
     "output_type": "execute_result"
    }
   ],
   "source": [
    "data"
   ]
  },
  {
   "cell_type": "code",
   "execution_count": 21,
   "metadata": {},
   "outputs": [
    {
     "name": "stdout",
     "output_type": "stream",
     "text": [
      "Accuracy: 0.893851383331182\n"
     ]
    }
   ],
   "source": [
    "df = process_data(df)\n",
    "\n",
    "# Separar los datos en conjuntos de entrenamiento y prueba\n",
    "X_train, X_test, y_train, y_test = train_test_split(df.drop('Cover_Type', axis=1), df['Cover_Type'], test_size=0.2, random_state=42)\n",
    "\n",
    "# Entrenar el modelo de RandomForest\n",
    "model = RandomForestClassifier()\n",
    "model.fit(X_train, y_train)\n",
    "\n",
    "# Evaluar el rendimiento del modelo en el conjunto de prueba\n",
    "y_pred = model.predict(X_test)\n",
    "accuracy = accuracy_score(y_test, y_pred)\n",
    "print(f'Accuracy: {accuracy}')"
   ]
  },
  {
   "cell_type": "code",
   "execution_count": null,
   "metadata": {},
   "outputs": [],
   "source": [
    "df.to_sql(con=engine, index_label='id', name='penguins_data', if_exists='replace')\n",
    "df_db = pd.read_sql_query(sql=text(query), con=conn)"
   ]
  },
  {
   "cell_type": "code",
   "execution_count": null,
   "metadata": {},
   "outputs": [],
   "source": [
    "with engine.connect() as conn:\n",
    "    query = 'SELECT species, island, culmen_length_mm, culmen_depth_mm, flipper_length_mm, body_mass_g, sex FROM '+data\n",
    "    if (db.inspect(conn).has_table('penguins_data')==True):\n",
    "        print(\"TIENE TABLA\")\n",
    "        df_db = pd.read_sql_query(sql=text(query), con=conn)\n",
    "    else:\n",
    "        print(\"NO TIENE TABLA\")"
   ]
  },
  {
   "cell_type": "code",
   "execution_count": 3,
   "metadata": {},
   "outputs": [],
   "source": [
    "database_username = 'root'\n",
    "database_password = 'topicosIA'\n",
    "database_host = '10.43.102.112'\n",
    "database_port = '3306'\n",
    "database_name = 'database_z'\n",
    "\n",
    "# Conexión a la base de datos\n",
    "connection_string = f\"mysql+pymysql://{database_username}:{database_password}@{database_host}:{database_port}/{database_name}\"\n",
    "engine = create_engine(connection_string)\n"
   ]
  },
  {
   "cell_type": "code",
   "execution_count": 5,
   "metadata": {},
   "outputs": [],
   "source": [
    "from sqlalchemy import create_engine, Column, Integer, String\n",
    "from sqlalchemy.ext.declarative import declarative_base\n",
    "from sqlalchemy.orm import sessionmaker\n",
    "from sqlalchemy_utils import database_exists, create_database"
   ]
  },
  {
   "cell_type": "code",
   "execution_count": 6,
   "metadata": {},
   "outputs": [
    {
     "name": "stderr",
     "output_type": "stream",
     "text": [
      "/tmp/ipykernel_3754020/1584718000.py:6: MovedIn20Warning: Deprecated API features detected! These feature(s) are not compatible with SQLAlchemy 2.0. To prevent incompatible upgrades prior to updating applications, ensure requirements files are pinned to \"sqlalchemy<2.0\". Set environment variable SQLALCHEMY_WARN_20=1 to show all deprecation warnings.  Set environment variable SQLALCHEMY_SILENCE_UBER_WARNING=1 to silence this message. (Background on SQLAlchemy 2.0 at: https://sqlalche.me/e/b8d9)\n",
      "  Base = declarative_base()\n"
     ]
    }
   ],
   "source": [
    "# Conexión a la base de datos\n",
    "connection_string = f\"mysql+pymysql://{database_username}:{database_password}@{database_host}:{database_port}/{database_name}\"\n",
    "engine = create_engine(connection_string)\n",
    "\n",
    "# Definición de la clase base para las clases de la base de datos\n",
    "Base = declarative_base()\n",
    "\n",
    "# Definición de la clase para la tabla CoverTypeTable\n",
    "class CoverTypeTable(Base):\n",
    "    __tablename__ = \"covertype_data_inference\"\n",
    "    id = Column(Integer, primary_key=True, index=True)\n",
    "    Elevation = Column(Integer)\n",
    "    Slope = Column(Integer)\n",
    "    Horizontal_Distance_To_Hydrology = Column(Integer)\n",
    "    Vertical_Distance_To_Hydrology = Column(Integer)\n",
    "    Horizontal_Distance_To_Roadways = Column(Integer)\n",
    "    Hillshade_9am = Column(Integer)\n",
    "    Hillshade_Noon = Column(Integer)\n",
    "    Horizontal_Distance_To_Fire_Points = Column(Integer)\n",
    "\n",
    "# Eliminación de la tabla\n",
    "Base.metadata.drop_all(bind=engine, tables=[CoverTypeTable.__table__])"
   ]
  },
  {
   "cell_type": "code",
   "execution_count": 4,
   "metadata": {},
   "outputs": [
    {
     "name": "stderr",
     "output_type": "stream",
     "text": [
      "/tmp/ipykernel_3749863/2339380839.py:4: MovedIn20Warning: Deprecated API features detected! These feature(s) are not compatible with SQLAlchemy 2.0. To prevent incompatible upgrades prior to updating applications, ensure requirements files are pinned to \"sqlalchemy<2.0\". Set environment variable SQLALCHEMY_WARN_20=1 to show all deprecation warnings.  Set environment variable SQLALCHEMY_SILENCE_UBER_WARNING=1 to silence this message. (Background on SQLAlchemy 2.0 at: https://sqlalche.me/e/b8d9)\n",
      "  Base = declarative_base()\n"
     ]
    }
   ],
   "source": [
    "# Definición de la sesión\n",
    "SessionLocal = sessionmaker(bind=engine)\n",
    "# Definición de la clase base para las clases de la base de datos\n",
    "Base = declarative_base()\n"
   ]
  },
  {
   "cell_type": "code",
   "execution_count": 7,
   "metadata": {},
   "outputs": [],
   "source": [
    "# Definición de la clase para la tabla CoverTypeTable\n",
    "class CoverTypeTable(Base):\n",
    "    __tablename__ = \"covertype_data_inference\"\n",
    "    id = Column(Integer, primary_key=True, index=True)\n",
    "    Elevation = Column(Integer)\n",
    "    Slope = Column(Integer)\n",
    "    Horizontal_Distance_To_Hydrology = Column(Integer)\n",
    "    Vertical_Distance_To_Hydrology = Column(Integer)\n",
    "    Horizontal_Distance_To_Roadways = Column(Integer)\n",
    "    Hillshade_9am = Column(Integer)\n",
    "    Hillshade_Noon = Column(Integer)\n",
    "    Horizontal_Distance_To_Fire_Points = Column(Integer)"
   ]
  },
  {
   "cell_type": "code",
   "execution_count": 56,
   "metadata": {},
   "outputs": [],
   "source": [
    "# Definición de la clase para la tabla CoverTypeTable\n",
    "class CoverTypeTable(Base):\n",
    "    __tablename__ = \"covertype_data_inference\"\n",
    "    id = Column(Integer, primary_key=True, index=True)\n",
    "    Elevation = Column(Integer)\n",
    "    Slope = Column(Integer)\n",
    "    Horizontal_Distance_To_Hydrology = Column(Integer)\n",
    "    Vertical_Distance_To_Hydrology = Column(Integer)\n",
    "    Horizontal_Distance_To_Roadways = Column(Integer)\n",
    "    Hillshade_9am = Column(Integer)\n",
    "    Hillshade_Noon = Column(Integer)\n",
    "    Horizontal_Distance_To_Fire_Points = Column(Integer)\n",
    "\n",
    "# Creación de la tabla de penguins en la base de datos\n",
    "Base.metadata.create_all(bind=engine)"
   ]
  },
  {
   "cell_type": "code",
   "execution_count": 7,
   "metadata": {},
   "outputs": [
    {
     "ename": "NoSuchTableError",
     "evalue": "`covertype_data_inference`",
     "output_type": "error",
     "traceback": [
      "\u001b[0;31m---------------------------------------------------------------------------\u001b[0m",
      "\u001b[0;31mProgrammingError\u001b[0m                          Traceback (most recent call last)",
      "File \u001b[0;32m~/anaconda3/envs/penguins/lib/python3.9/site-packages/sqlalchemy/engine/base.py:1900\u001b[0m, in \u001b[0;36mConnection._execute_context\u001b[0;34m(self, dialect, constructor, statement, parameters, execution_options, *args, **kw)\u001b[0m\n\u001b[1;32m   1899\u001b[0m     \u001b[39mif\u001b[39;00m \u001b[39mnot\u001b[39;00m evt_handled:\n\u001b[0;32m-> 1900\u001b[0m         \u001b[39mself\u001b[39;49m\u001b[39m.\u001b[39;49mdialect\u001b[39m.\u001b[39;49mdo_execute(\n\u001b[1;32m   1901\u001b[0m             cursor, statement, parameters, context\n\u001b[1;32m   1902\u001b[0m         )\n\u001b[1;32m   1904\u001b[0m \u001b[39mif\u001b[39;00m \u001b[39mself\u001b[39m\u001b[39m.\u001b[39m_has_events \u001b[39mor\u001b[39;00m \u001b[39mself\u001b[39m\u001b[39m.\u001b[39mengine\u001b[39m.\u001b[39m_has_events:\n",
      "File \u001b[0;32m~/anaconda3/envs/penguins/lib/python3.9/site-packages/sqlalchemy/engine/default.py:736\u001b[0m, in \u001b[0;36mDefaultDialect.do_execute\u001b[0;34m(self, cursor, statement, parameters, context)\u001b[0m\n\u001b[1;32m    735\u001b[0m \u001b[39mdef\u001b[39;00m \u001b[39mdo_execute\u001b[39m(\u001b[39mself\u001b[39m, cursor, statement, parameters, context\u001b[39m=\u001b[39m\u001b[39mNone\u001b[39;00m):\n\u001b[0;32m--> 736\u001b[0m     cursor\u001b[39m.\u001b[39;49mexecute(statement, parameters)\n",
      "File \u001b[0;32m~/anaconda3/envs/penguins/lib/python3.9/site-packages/pymysql/cursors.py:148\u001b[0m, in \u001b[0;36mCursor.execute\u001b[0;34m(self, query, args)\u001b[0m\n\u001b[1;32m    146\u001b[0m query \u001b[39m=\u001b[39m \u001b[39mself\u001b[39m\u001b[39m.\u001b[39mmogrify(query, args)\n\u001b[0;32m--> 148\u001b[0m result \u001b[39m=\u001b[39m \u001b[39mself\u001b[39;49m\u001b[39m.\u001b[39;49m_query(query)\n\u001b[1;32m    149\u001b[0m \u001b[39mself\u001b[39m\u001b[39m.\u001b[39m_executed \u001b[39m=\u001b[39m query\n",
      "File \u001b[0;32m~/anaconda3/envs/penguins/lib/python3.9/site-packages/pymysql/cursors.py:310\u001b[0m, in \u001b[0;36mCursor._query\u001b[0;34m(self, q)\u001b[0m\n\u001b[1;32m    309\u001b[0m \u001b[39mself\u001b[39m\u001b[39m.\u001b[39m_clear_result()\n\u001b[0;32m--> 310\u001b[0m conn\u001b[39m.\u001b[39;49mquery(q)\n\u001b[1;32m    311\u001b[0m \u001b[39mself\u001b[39m\u001b[39m.\u001b[39m_do_get_result()\n",
      "File \u001b[0;32m~/anaconda3/envs/penguins/lib/python3.9/site-packages/pymysql/connections.py:548\u001b[0m, in \u001b[0;36mConnection.query\u001b[0;34m(self, sql, unbuffered)\u001b[0m\n\u001b[1;32m    547\u001b[0m \u001b[39mself\u001b[39m\u001b[39m.\u001b[39m_execute_command(COMMAND\u001b[39m.\u001b[39mCOM_QUERY, sql)\n\u001b[0;32m--> 548\u001b[0m \u001b[39mself\u001b[39m\u001b[39m.\u001b[39m_affected_rows \u001b[39m=\u001b[39m \u001b[39mself\u001b[39;49m\u001b[39m.\u001b[39;49m_read_query_result(unbuffered\u001b[39m=\u001b[39;49munbuffered)\n\u001b[1;32m    549\u001b[0m \u001b[39mreturn\u001b[39;00m \u001b[39mself\u001b[39m\u001b[39m.\u001b[39m_affected_rows\n",
      "File \u001b[0;32m~/anaconda3/envs/penguins/lib/python3.9/site-packages/pymysql/connections.py:775\u001b[0m, in \u001b[0;36mConnection._read_query_result\u001b[0;34m(self, unbuffered)\u001b[0m\n\u001b[1;32m    774\u001b[0m     result \u001b[39m=\u001b[39m MySQLResult(\u001b[39mself\u001b[39m)\n\u001b[0;32m--> 775\u001b[0m     result\u001b[39m.\u001b[39;49mread()\n\u001b[1;32m    776\u001b[0m \u001b[39mself\u001b[39m\u001b[39m.\u001b[39m_result \u001b[39m=\u001b[39m result\n",
      "File \u001b[0;32m~/anaconda3/envs/penguins/lib/python3.9/site-packages/pymysql/connections.py:1156\u001b[0m, in \u001b[0;36mMySQLResult.read\u001b[0;34m(self)\u001b[0m\n\u001b[1;32m   1155\u001b[0m \u001b[39mtry\u001b[39;00m:\n\u001b[0;32m-> 1156\u001b[0m     first_packet \u001b[39m=\u001b[39m \u001b[39mself\u001b[39;49m\u001b[39m.\u001b[39;49mconnection\u001b[39m.\u001b[39;49m_read_packet()\n\u001b[1;32m   1158\u001b[0m     \u001b[39mif\u001b[39;00m first_packet\u001b[39m.\u001b[39mis_ok_packet():\n",
      "File \u001b[0;32m~/anaconda3/envs/penguins/lib/python3.9/site-packages/pymysql/connections.py:725\u001b[0m, in \u001b[0;36mConnection._read_packet\u001b[0;34m(self, packet_type)\u001b[0m\n\u001b[1;32m    724\u001b[0m         \u001b[39mself\u001b[39m\u001b[39m.\u001b[39m_result\u001b[39m.\u001b[39munbuffered_active \u001b[39m=\u001b[39m \u001b[39mFalse\u001b[39;00m\n\u001b[0;32m--> 725\u001b[0m     packet\u001b[39m.\u001b[39;49mraise_for_error()\n\u001b[1;32m    726\u001b[0m \u001b[39mreturn\u001b[39;00m packet\n",
      "File \u001b[0;32m~/anaconda3/envs/penguins/lib/python3.9/site-packages/pymysql/protocol.py:221\u001b[0m, in \u001b[0;36mMysqlPacket.raise_for_error\u001b[0;34m(self)\u001b[0m\n\u001b[1;32m    220\u001b[0m     \u001b[39mprint\u001b[39m(\u001b[39m\"\u001b[39m\u001b[39merrno =\u001b[39m\u001b[39m\"\u001b[39m, errno)\n\u001b[0;32m--> 221\u001b[0m err\u001b[39m.\u001b[39;49mraise_mysql_exception(\u001b[39mself\u001b[39;49m\u001b[39m.\u001b[39;49m_data)\n",
      "File \u001b[0;32m~/anaconda3/envs/penguins/lib/python3.9/site-packages/pymysql/err.py:143\u001b[0m, in \u001b[0;36mraise_mysql_exception\u001b[0;34m(data)\u001b[0m\n\u001b[1;32m    142\u001b[0m     errorclass \u001b[39m=\u001b[39m InternalError \u001b[39mif\u001b[39;00m errno \u001b[39m<\u001b[39m \u001b[39m1000\u001b[39m \u001b[39melse\u001b[39;00m OperationalError\n\u001b[0;32m--> 143\u001b[0m \u001b[39mraise\u001b[39;00m errorclass(errno, errval)\n",
      "\u001b[0;31mProgrammingError\u001b[0m: (1146, \"Table 'database_z.covertype_data_inference' doesn't exist\")",
      "\nThe above exception was the direct cause of the following exception:\n",
      "\u001b[0;31mProgrammingError\u001b[0m                          Traceback (most recent call last)",
      "File \u001b[0;32m~/anaconda3/envs/penguins/lib/python3.9/site-packages/sqlalchemy/dialects/mysql/base.py:3221\u001b[0m, in \u001b[0;36mMySQLDialect._show_create_table\u001b[0;34m(self, connection, table, charset, full_name)\u001b[0m\n\u001b[1;32m   3220\u001b[0m \u001b[39mtry\u001b[39;00m:\n\u001b[0;32m-> 3221\u001b[0m     rp \u001b[39m=\u001b[39m connection\u001b[39m.\u001b[39;49mexecution_options(\n\u001b[1;32m   3222\u001b[0m         skip_user_error_events\u001b[39m=\u001b[39;49m\u001b[39mTrue\u001b[39;49;00m\n\u001b[1;32m   3223\u001b[0m     )\u001b[39m.\u001b[39;49mexec_driver_sql(st)\n\u001b[1;32m   3224\u001b[0m \u001b[39mexcept\u001b[39;00m exc\u001b[39m.\u001b[39mDBAPIError \u001b[39mas\u001b[39;00m e:\n",
      "File \u001b[0;32m~/anaconda3/envs/penguins/lib/python3.9/site-packages/sqlalchemy/engine/base.py:1760\u001b[0m, in \u001b[0;36mConnection.exec_driver_sql\u001b[0;34m(self, statement, parameters, execution_options)\u001b[0m\n\u001b[1;32m   1758\u001b[0m args_10style, kwargs_10style \u001b[39m=\u001b[39m _distill_params_20(parameters)\n\u001b[0;32m-> 1760\u001b[0m \u001b[39mreturn\u001b[39;00m \u001b[39mself\u001b[39;49m\u001b[39m.\u001b[39;49m_exec_driver_sql(\n\u001b[1;32m   1761\u001b[0m     statement,\n\u001b[1;32m   1762\u001b[0m     args_10style,\n\u001b[1;32m   1763\u001b[0m     kwargs_10style,\n\u001b[1;32m   1764\u001b[0m     execution_options,\n\u001b[1;32m   1765\u001b[0m     future\u001b[39m=\u001b[39;49m\u001b[39mTrue\u001b[39;49;00m,\n\u001b[1;32m   1766\u001b[0m )\n",
      "File \u001b[0;32m~/anaconda3/envs/penguins/lib/python3.9/site-packages/sqlalchemy/engine/base.py:1669\u001b[0m, in \u001b[0;36mConnection._exec_driver_sql\u001b[0;34m(self, statement, multiparams, params, execution_options, future)\u001b[0m\n\u001b[1;32m   1668\u001b[0m dialect \u001b[39m=\u001b[39m \u001b[39mself\u001b[39m\u001b[39m.\u001b[39mdialect\n\u001b[0;32m-> 1669\u001b[0m ret \u001b[39m=\u001b[39m \u001b[39mself\u001b[39;49m\u001b[39m.\u001b[39;49m_execute_context(\n\u001b[1;32m   1670\u001b[0m     dialect,\n\u001b[1;32m   1671\u001b[0m     dialect\u001b[39m.\u001b[39;49mexecution_ctx_cls\u001b[39m.\u001b[39;49m_init_statement,\n\u001b[1;32m   1672\u001b[0m     statement,\n\u001b[1;32m   1673\u001b[0m     distilled_parameters,\n\u001b[1;32m   1674\u001b[0m     execution_options,\n\u001b[1;32m   1675\u001b[0m     statement,\n\u001b[1;32m   1676\u001b[0m     distilled_parameters,\n\u001b[1;32m   1677\u001b[0m )\n\u001b[1;32m   1679\u001b[0m \u001b[39mif\u001b[39;00m \u001b[39mnot\u001b[39;00m future:\n",
      "File \u001b[0;32m~/anaconda3/envs/penguins/lib/python3.9/site-packages/sqlalchemy/engine/base.py:1943\u001b[0m, in \u001b[0;36mConnection._execute_context\u001b[0;34m(self, dialect, constructor, statement, parameters, execution_options, *args, **kw)\u001b[0m\n\u001b[1;32m   1942\u001b[0m \u001b[39mexcept\u001b[39;00m \u001b[39mBaseException\u001b[39;00m \u001b[39mas\u001b[39;00m e:\n\u001b[0;32m-> 1943\u001b[0m     \u001b[39mself\u001b[39;49m\u001b[39m.\u001b[39;49m_handle_dbapi_exception(\n\u001b[1;32m   1944\u001b[0m         e, statement, parameters, cursor, context\n\u001b[1;32m   1945\u001b[0m     )\n\u001b[1;32m   1947\u001b[0m \u001b[39mreturn\u001b[39;00m result\n",
      "File \u001b[0;32m~/anaconda3/envs/penguins/lib/python3.9/site-packages/sqlalchemy/engine/base.py:2124\u001b[0m, in \u001b[0;36mConnection._handle_dbapi_exception\u001b[0;34m(self, e, statement, parameters, cursor, context)\u001b[0m\n\u001b[1;32m   2123\u001b[0m \u001b[39melif\u001b[39;00m should_wrap:\n\u001b[0;32m-> 2124\u001b[0m     util\u001b[39m.\u001b[39;49mraise_(\n\u001b[1;32m   2125\u001b[0m         sqlalchemy_exception, with_traceback\u001b[39m=\u001b[39;49mexc_info[\u001b[39m2\u001b[39;49m], from_\u001b[39m=\u001b[39;49me\n\u001b[1;32m   2126\u001b[0m     )\n\u001b[1;32m   2127\u001b[0m \u001b[39melse\u001b[39;00m:\n",
      "File \u001b[0;32m~/anaconda3/envs/penguins/lib/python3.9/site-packages/sqlalchemy/util/compat.py:211\u001b[0m, in \u001b[0;36mraise_\u001b[0;34m(***failed resolving arguments***)\u001b[0m\n\u001b[1;32m    210\u001b[0m \u001b[39mtry\u001b[39;00m:\n\u001b[0;32m--> 211\u001b[0m     \u001b[39mraise\u001b[39;00m exception\n\u001b[1;32m    212\u001b[0m \u001b[39mfinally\u001b[39;00m:\n\u001b[1;32m    213\u001b[0m     \u001b[39m# credit to\u001b[39;00m\n\u001b[1;32m    214\u001b[0m     \u001b[39m# https://cosmicpercolator.com/2016/01/13/exception-leaks-in-python-2-and-3/\u001b[39;00m\n\u001b[1;32m    215\u001b[0m     \u001b[39m# as the __traceback__ object creates a cycle\u001b[39;00m\n",
      "File \u001b[0;32m~/anaconda3/envs/penguins/lib/python3.9/site-packages/sqlalchemy/engine/base.py:1900\u001b[0m, in \u001b[0;36mConnection._execute_context\u001b[0;34m(self, dialect, constructor, statement, parameters, execution_options, *args, **kw)\u001b[0m\n\u001b[1;32m   1899\u001b[0m     \u001b[39mif\u001b[39;00m \u001b[39mnot\u001b[39;00m evt_handled:\n\u001b[0;32m-> 1900\u001b[0m         \u001b[39mself\u001b[39;49m\u001b[39m.\u001b[39;49mdialect\u001b[39m.\u001b[39;49mdo_execute(\n\u001b[1;32m   1901\u001b[0m             cursor, statement, parameters, context\n\u001b[1;32m   1902\u001b[0m         )\n\u001b[1;32m   1904\u001b[0m \u001b[39mif\u001b[39;00m \u001b[39mself\u001b[39m\u001b[39m.\u001b[39m_has_events \u001b[39mor\u001b[39;00m \u001b[39mself\u001b[39m\u001b[39m.\u001b[39mengine\u001b[39m.\u001b[39m_has_events:\n",
      "File \u001b[0;32m~/anaconda3/envs/penguins/lib/python3.9/site-packages/sqlalchemy/engine/default.py:736\u001b[0m, in \u001b[0;36mDefaultDialect.do_execute\u001b[0;34m(self, cursor, statement, parameters, context)\u001b[0m\n\u001b[1;32m    735\u001b[0m \u001b[39mdef\u001b[39;00m \u001b[39mdo_execute\u001b[39m(\u001b[39mself\u001b[39m, cursor, statement, parameters, context\u001b[39m=\u001b[39m\u001b[39mNone\u001b[39;00m):\n\u001b[0;32m--> 736\u001b[0m     cursor\u001b[39m.\u001b[39;49mexecute(statement, parameters)\n",
      "File \u001b[0;32m~/anaconda3/envs/penguins/lib/python3.9/site-packages/pymysql/cursors.py:148\u001b[0m, in \u001b[0;36mCursor.execute\u001b[0;34m(self, query, args)\u001b[0m\n\u001b[1;32m    146\u001b[0m query \u001b[39m=\u001b[39m \u001b[39mself\u001b[39m\u001b[39m.\u001b[39mmogrify(query, args)\n\u001b[0;32m--> 148\u001b[0m result \u001b[39m=\u001b[39m \u001b[39mself\u001b[39;49m\u001b[39m.\u001b[39;49m_query(query)\n\u001b[1;32m    149\u001b[0m \u001b[39mself\u001b[39m\u001b[39m.\u001b[39m_executed \u001b[39m=\u001b[39m query\n",
      "File \u001b[0;32m~/anaconda3/envs/penguins/lib/python3.9/site-packages/pymysql/cursors.py:310\u001b[0m, in \u001b[0;36mCursor._query\u001b[0;34m(self, q)\u001b[0m\n\u001b[1;32m    309\u001b[0m \u001b[39mself\u001b[39m\u001b[39m.\u001b[39m_clear_result()\n\u001b[0;32m--> 310\u001b[0m conn\u001b[39m.\u001b[39;49mquery(q)\n\u001b[1;32m    311\u001b[0m \u001b[39mself\u001b[39m\u001b[39m.\u001b[39m_do_get_result()\n",
      "File \u001b[0;32m~/anaconda3/envs/penguins/lib/python3.9/site-packages/pymysql/connections.py:548\u001b[0m, in \u001b[0;36mConnection.query\u001b[0;34m(self, sql, unbuffered)\u001b[0m\n\u001b[1;32m    547\u001b[0m \u001b[39mself\u001b[39m\u001b[39m.\u001b[39m_execute_command(COMMAND\u001b[39m.\u001b[39mCOM_QUERY, sql)\n\u001b[0;32m--> 548\u001b[0m \u001b[39mself\u001b[39m\u001b[39m.\u001b[39m_affected_rows \u001b[39m=\u001b[39m \u001b[39mself\u001b[39;49m\u001b[39m.\u001b[39;49m_read_query_result(unbuffered\u001b[39m=\u001b[39;49munbuffered)\n\u001b[1;32m    549\u001b[0m \u001b[39mreturn\u001b[39;00m \u001b[39mself\u001b[39m\u001b[39m.\u001b[39m_affected_rows\n",
      "File \u001b[0;32m~/anaconda3/envs/penguins/lib/python3.9/site-packages/pymysql/connections.py:775\u001b[0m, in \u001b[0;36mConnection._read_query_result\u001b[0;34m(self, unbuffered)\u001b[0m\n\u001b[1;32m    774\u001b[0m     result \u001b[39m=\u001b[39m MySQLResult(\u001b[39mself\u001b[39m)\n\u001b[0;32m--> 775\u001b[0m     result\u001b[39m.\u001b[39;49mread()\n\u001b[1;32m    776\u001b[0m \u001b[39mself\u001b[39m\u001b[39m.\u001b[39m_result \u001b[39m=\u001b[39m result\n",
      "File \u001b[0;32m~/anaconda3/envs/penguins/lib/python3.9/site-packages/pymysql/connections.py:1156\u001b[0m, in \u001b[0;36mMySQLResult.read\u001b[0;34m(self)\u001b[0m\n\u001b[1;32m   1155\u001b[0m \u001b[39mtry\u001b[39;00m:\n\u001b[0;32m-> 1156\u001b[0m     first_packet \u001b[39m=\u001b[39m \u001b[39mself\u001b[39;49m\u001b[39m.\u001b[39;49mconnection\u001b[39m.\u001b[39;49m_read_packet()\n\u001b[1;32m   1158\u001b[0m     \u001b[39mif\u001b[39;00m first_packet\u001b[39m.\u001b[39mis_ok_packet():\n",
      "File \u001b[0;32m~/anaconda3/envs/penguins/lib/python3.9/site-packages/pymysql/connections.py:725\u001b[0m, in \u001b[0;36mConnection._read_packet\u001b[0;34m(self, packet_type)\u001b[0m\n\u001b[1;32m    724\u001b[0m         \u001b[39mself\u001b[39m\u001b[39m.\u001b[39m_result\u001b[39m.\u001b[39munbuffered_active \u001b[39m=\u001b[39m \u001b[39mFalse\u001b[39;00m\n\u001b[0;32m--> 725\u001b[0m     packet\u001b[39m.\u001b[39;49mraise_for_error()\n\u001b[1;32m    726\u001b[0m \u001b[39mreturn\u001b[39;00m packet\n",
      "File \u001b[0;32m~/anaconda3/envs/penguins/lib/python3.9/site-packages/pymysql/protocol.py:221\u001b[0m, in \u001b[0;36mMysqlPacket.raise_for_error\u001b[0;34m(self)\u001b[0m\n\u001b[1;32m    220\u001b[0m     \u001b[39mprint\u001b[39m(\u001b[39m\"\u001b[39m\u001b[39merrno =\u001b[39m\u001b[39m\"\u001b[39m, errno)\n\u001b[0;32m--> 221\u001b[0m err\u001b[39m.\u001b[39;49mraise_mysql_exception(\u001b[39mself\u001b[39;49m\u001b[39m.\u001b[39;49m_data)\n",
      "File \u001b[0;32m~/anaconda3/envs/penguins/lib/python3.9/site-packages/pymysql/err.py:143\u001b[0m, in \u001b[0;36mraise_mysql_exception\u001b[0;34m(data)\u001b[0m\n\u001b[1;32m    142\u001b[0m     errorclass \u001b[39m=\u001b[39m InternalError \u001b[39mif\u001b[39;00m errno \u001b[39m<\u001b[39m \u001b[39m1000\u001b[39m \u001b[39melse\u001b[39;00m OperationalError\n\u001b[0;32m--> 143\u001b[0m \u001b[39mraise\u001b[39;00m errorclass(errno, errval)\n",
      "\u001b[0;31mProgrammingError\u001b[0m: (pymysql.err.ProgrammingError) (1146, \"Table 'database_z.covertype_data_inference' doesn't exist\")\n[SQL: SHOW CREATE TABLE `covertype_data_inference`]\n(Background on this error at: https://sqlalche.me/e/14/f405)",
      "\nThe above exception was the direct cause of the following exception:\n",
      "\u001b[0;31mNoSuchTableError\u001b[0m                          Traceback (most recent call last)",
      "Cell \u001b[0;32mIn[7], line 6\u001b[0m\n\u001b[1;32m      3\u001b[0m metadata \u001b[39m=\u001b[39m MetaData(bind\u001b[39m=\u001b[39mengine)\n\u001b[1;32m      5\u001b[0m \u001b[39m# Obtener la tabla 'covertype_data_inference'\u001b[39;00m\n\u001b[0;32m----> 6\u001b[0m table \u001b[39m=\u001b[39m Table(\u001b[39m'\u001b[39;49m\u001b[39mcovertype_data_inference\u001b[39;49m\u001b[39m'\u001b[39;49m, metadata, autoload\u001b[39m=\u001b[39;49m\u001b[39mTrue\u001b[39;49;00m, autoload_with\u001b[39m=\u001b[39;49mengine)\n\u001b[1;32m      8\u001b[0m \u001b[39m# Obtener las columnas de la tabla\u001b[39;00m\n\u001b[1;32m      9\u001b[0m columns \u001b[39m=\u001b[39m table\u001b[39m.\u001b[39mcolumns\n",
      "File \u001b[0;32m<string>:2\u001b[0m, in \u001b[0;36m__new__\u001b[0;34m(cls, *args, **kw)\u001b[0m\n",
      "File \u001b[0;32m~/anaconda3/envs/penguins/lib/python3.9/site-packages/sqlalchemy/util/deprecations.py:375\u001b[0m, in \u001b[0;36mdeprecated_params.<locals>.decorate.<locals>.warned\u001b[0;34m(fn, *args, **kwargs)\u001b[0m\n\u001b[1;32m    368\u001b[0m     \u001b[39mif\u001b[39;00m m \u001b[39min\u001b[39;00m kwargs:\n\u001b[1;32m    369\u001b[0m         _warn_with_version(\n\u001b[1;32m    370\u001b[0m             messages[m],\n\u001b[1;32m    371\u001b[0m             versions[m],\n\u001b[1;32m    372\u001b[0m             version_warnings[m],\n\u001b[1;32m    373\u001b[0m             stacklevel\u001b[39m=\u001b[39m\u001b[39m3\u001b[39m,\n\u001b[1;32m    374\u001b[0m         )\n\u001b[0;32m--> 375\u001b[0m \u001b[39mreturn\u001b[39;00m fn(\u001b[39m*\u001b[39;49margs, \u001b[39m*\u001b[39;49m\u001b[39m*\u001b[39;49mkwargs)\n",
      "File \u001b[0;32m~/anaconda3/envs/penguins/lib/python3.9/site-packages/sqlalchemy/sql/schema.py:619\u001b[0m, in \u001b[0;36mTable.__new__\u001b[0;34m(cls, *args, **kw)\u001b[0m\n\u001b[1;32m    617\u001b[0m \u001b[39mexcept\u001b[39;00m \u001b[39mException\u001b[39;00m:\n\u001b[1;32m    618\u001b[0m     \u001b[39mwith\u001b[39;00m util\u001b[39m.\u001b[39msafe_reraise():\n\u001b[0;32m--> 619\u001b[0m         metadata\u001b[39m.\u001b[39m_remove_table(name, schema)\n",
      "File \u001b[0;32m~/anaconda3/envs/penguins/lib/python3.9/site-packages/sqlalchemy/util/langhelpers.py:70\u001b[0m, in \u001b[0;36msafe_reraise.__exit__\u001b[0;34m(self, type_, value, traceback)\u001b[0m\n\u001b[1;32m     68\u001b[0m     \u001b[39mself\u001b[39m\u001b[39m.\u001b[39m_exc_info \u001b[39m=\u001b[39m \u001b[39mNone\u001b[39;00m  \u001b[39m# remove potential circular references\u001b[39;00m\n\u001b[1;32m     69\u001b[0m     \u001b[39mif\u001b[39;00m \u001b[39mnot\u001b[39;00m \u001b[39mself\u001b[39m\u001b[39m.\u001b[39mwarn_only:\n\u001b[0;32m---> 70\u001b[0m         compat\u001b[39m.\u001b[39;49mraise_(\n\u001b[1;32m     71\u001b[0m             exc_value,\n\u001b[1;32m     72\u001b[0m             with_traceback\u001b[39m=\u001b[39;49mexc_tb,\n\u001b[1;32m     73\u001b[0m         )\n\u001b[1;32m     74\u001b[0m \u001b[39melse\u001b[39;00m:\n\u001b[1;32m     75\u001b[0m     \u001b[39mif\u001b[39;00m \u001b[39mnot\u001b[39;00m compat\u001b[39m.\u001b[39mpy3k \u001b[39mand\u001b[39;00m \u001b[39mself\u001b[39m\u001b[39m.\u001b[39m_exc_info \u001b[39mand\u001b[39;00m \u001b[39mself\u001b[39m\u001b[39m.\u001b[39m_exc_info[\u001b[39m1\u001b[39m]:\n\u001b[1;32m     76\u001b[0m         \u001b[39m# emulate Py3K's behavior of telling us when an exception\u001b[39;00m\n\u001b[1;32m     77\u001b[0m         \u001b[39m# occurs in an exception handler.\u001b[39;00m\n",
      "File \u001b[0;32m~/anaconda3/envs/penguins/lib/python3.9/site-packages/sqlalchemy/util/compat.py:211\u001b[0m, in \u001b[0;36mraise_\u001b[0;34m(***failed resolving arguments***)\u001b[0m\n\u001b[1;32m    208\u001b[0m     exception\u001b[39m.\u001b[39m__cause__ \u001b[39m=\u001b[39m replace_context\n\u001b[1;32m    210\u001b[0m \u001b[39mtry\u001b[39;00m:\n\u001b[0;32m--> 211\u001b[0m     \u001b[39mraise\u001b[39;00m exception\n\u001b[1;32m    212\u001b[0m \u001b[39mfinally\u001b[39;00m:\n\u001b[1;32m    213\u001b[0m     \u001b[39m# credit to\u001b[39;00m\n\u001b[1;32m    214\u001b[0m     \u001b[39m# https://cosmicpercolator.com/2016/01/13/exception-leaks-in-python-2-and-3/\u001b[39;00m\n\u001b[1;32m    215\u001b[0m     \u001b[39m# as the __traceback__ object creates a cycle\u001b[39;00m\n\u001b[1;32m    216\u001b[0m     \u001b[39mdel\u001b[39;00m exception, replace_context, from_, with_traceback\n",
      "File \u001b[0;32m~/anaconda3/envs/penguins/lib/python3.9/site-packages/sqlalchemy/sql/schema.py:614\u001b[0m, in \u001b[0;36mTable.__new__\u001b[0;34m(cls, *args, **kw)\u001b[0m\n\u001b[1;32m    612\u001b[0m metadata\u001b[39m.\u001b[39m_add_table(name, schema, table)\n\u001b[1;32m    613\u001b[0m \u001b[39mtry\u001b[39;00m:\n\u001b[0;32m--> 614\u001b[0m     table\u001b[39m.\u001b[39;49m_init(name, metadata, \u001b[39m*\u001b[39;49margs, \u001b[39m*\u001b[39;49m\u001b[39m*\u001b[39;49mkw)\n\u001b[1;32m    615\u001b[0m     table\u001b[39m.\u001b[39mdispatch\u001b[39m.\u001b[39mafter_parent_attach(table, metadata)\n\u001b[1;32m    616\u001b[0m     \u001b[39mreturn\u001b[39;00m table\n",
      "File \u001b[0;32m~/anaconda3/envs/penguins/lib/python3.9/site-packages/sqlalchemy/sql/schema.py:689\u001b[0m, in \u001b[0;36mTable._init\u001b[0;34m(self, name, metadata, *args, **kwargs)\u001b[0m\n\u001b[1;32m    685\u001b[0m \u001b[39m# load column definitions from the database if 'autoload' is defined\u001b[39;00m\n\u001b[1;32m    686\u001b[0m \u001b[39m# we do it after the table is in the singleton dictionary to support\u001b[39;00m\n\u001b[1;32m    687\u001b[0m \u001b[39m# circular foreign keys\u001b[39;00m\n\u001b[1;32m    688\u001b[0m \u001b[39mif\u001b[39;00m autoload:\n\u001b[0;32m--> 689\u001b[0m     \u001b[39mself\u001b[39;49m\u001b[39m.\u001b[39;49m_autoload(\n\u001b[1;32m    690\u001b[0m         metadata,\n\u001b[1;32m    691\u001b[0m         autoload_with,\n\u001b[1;32m    692\u001b[0m         include_columns,\n\u001b[1;32m    693\u001b[0m         _extend_on\u001b[39m=\u001b[39;49m_extend_on,\n\u001b[1;32m    694\u001b[0m         resolve_fks\u001b[39m=\u001b[39;49mresolve_fks,\n\u001b[1;32m    695\u001b[0m     )\n\u001b[1;32m    697\u001b[0m \u001b[39m# initialize all the column, etc. objects.  done after reflection to\u001b[39;00m\n\u001b[1;32m    698\u001b[0m \u001b[39m# allow user-overrides\u001b[39;00m\n\u001b[1;32m    700\u001b[0m \u001b[39mself\u001b[39m\u001b[39m.\u001b[39m_init_items(\n\u001b[1;32m    701\u001b[0m     \u001b[39m*\u001b[39margs,\n\u001b[1;32m    702\u001b[0m     allow_replacements\u001b[39m=\u001b[39mextend_existing \u001b[39mor\u001b[39;00m keep_existing \u001b[39mor\u001b[39;00m autoload\n\u001b[1;32m    703\u001b[0m )\n",
      "File \u001b[0;32m~/anaconda3/envs/penguins/lib/python3.9/site-packages/sqlalchemy/sql/schema.py:724\u001b[0m, in \u001b[0;36mTable._autoload\u001b[0;34m(self, metadata, autoload_with, include_columns, exclude_columns, resolve_fks, _extend_on)\u001b[0m\n\u001b[1;32m    722\u001b[0m insp \u001b[39m=\u001b[39m inspection\u001b[39m.\u001b[39minspect(autoload_with)\n\u001b[1;32m    723\u001b[0m \u001b[39mwith\u001b[39;00m insp\u001b[39m.\u001b[39m_inspection_context() \u001b[39mas\u001b[39;00m conn_insp:\n\u001b[0;32m--> 724\u001b[0m     conn_insp\u001b[39m.\u001b[39;49mreflect_table(\n\u001b[1;32m    725\u001b[0m         \u001b[39mself\u001b[39;49m,\n\u001b[1;32m    726\u001b[0m         include_columns,\n\u001b[1;32m    727\u001b[0m         exclude_columns,\n\u001b[1;32m    728\u001b[0m         resolve_fks,\n\u001b[1;32m    729\u001b[0m         _extend_on\u001b[39m=\u001b[39;49m_extend_on,\n\u001b[1;32m    730\u001b[0m     )\n",
      "File \u001b[0;32m~/anaconda3/envs/penguins/lib/python3.9/site-packages/sqlalchemy/engine/reflection.py:757\u001b[0m, in \u001b[0;36mInspector.reflect_table\u001b[0;34m(self, table, include_columns, exclude_columns, resolve_fks, _extend_on)\u001b[0m\n\u001b[1;32m    750\u001b[0m reflection_options \u001b[39m=\u001b[39m \u001b[39mdict\u001b[39m(\n\u001b[1;32m    751\u001b[0m     (k, table\u001b[39m.\u001b[39mdialect_kwargs\u001b[39m.\u001b[39mget(k))\n\u001b[1;32m    752\u001b[0m     \u001b[39mfor\u001b[39;00m k \u001b[39min\u001b[39;00m dialect\u001b[39m.\u001b[39mreflection_options\n\u001b[1;32m    753\u001b[0m     \u001b[39mif\u001b[39;00m k \u001b[39min\u001b[39;00m table\u001b[39m.\u001b[39mdialect_kwargs\n\u001b[1;32m    754\u001b[0m )\n\u001b[1;32m    756\u001b[0m \u001b[39m# reflect table options, like mysql_engine\u001b[39;00m\n\u001b[0;32m--> 757\u001b[0m tbl_opts \u001b[39m=\u001b[39m \u001b[39mself\u001b[39;49m\u001b[39m.\u001b[39;49mget_table_options(\n\u001b[1;32m    758\u001b[0m     table_name, schema, \u001b[39m*\u001b[39;49m\u001b[39m*\u001b[39;49mtable\u001b[39m.\u001b[39;49mdialect_kwargs\n\u001b[1;32m    759\u001b[0m )\n\u001b[1;32m    760\u001b[0m \u001b[39mif\u001b[39;00m tbl_opts:\n\u001b[1;32m    761\u001b[0m     \u001b[39m# add additional kwargs to the Table if the dialect\u001b[39;00m\n\u001b[1;32m    762\u001b[0m     \u001b[39m# returned them\u001b[39;00m\n\u001b[1;32m    763\u001b[0m     table\u001b[39m.\u001b[39m_validate_dialect_kwargs(tbl_opts)\n",
      "File \u001b[0;32m~/anaconda3/envs/penguins/lib/python3.9/site-packages/sqlalchemy/engine/reflection.py:398\u001b[0m, in \u001b[0;36mInspector.get_table_options\u001b[0;34m(self, table_name, schema, **kw)\u001b[0m\n\u001b[1;32m    396\u001b[0m \u001b[39mif\u001b[39;00m \u001b[39mhasattr\u001b[39m(\u001b[39mself\u001b[39m\u001b[39m.\u001b[39mdialect, \u001b[39m\"\u001b[39m\u001b[39mget_table_options\u001b[39m\u001b[39m\"\u001b[39m):\n\u001b[1;32m    397\u001b[0m     \u001b[39mwith\u001b[39;00m \u001b[39mself\u001b[39m\u001b[39m.\u001b[39m_operation_context() \u001b[39mas\u001b[39;00m conn:\n\u001b[0;32m--> 398\u001b[0m         \u001b[39mreturn\u001b[39;00m \u001b[39mself\u001b[39;49m\u001b[39m.\u001b[39;49mdialect\u001b[39m.\u001b[39;49mget_table_options(\n\u001b[1;32m    399\u001b[0m             conn, table_name, schema, info_cache\u001b[39m=\u001b[39;49m\u001b[39mself\u001b[39;49m\u001b[39m.\u001b[39;49minfo_cache, \u001b[39m*\u001b[39;49m\u001b[39m*\u001b[39;49mkw\n\u001b[1;32m    400\u001b[0m         )\n\u001b[1;32m    401\u001b[0m \u001b[39mreturn\u001b[39;00m {}\n",
      "File \u001b[0;32m<string>:2\u001b[0m, in \u001b[0;36mget_table_options\u001b[0;34m(self, connection, table_name, schema, **kw)\u001b[0m\n",
      "File \u001b[0;32m~/anaconda3/envs/penguins/lib/python3.9/site-packages/sqlalchemy/engine/reflection.py:55\u001b[0m, in \u001b[0;36mcache\u001b[0;34m(fn, self, con, *args, **kw)\u001b[0m\n\u001b[1;32m     53\u001b[0m ret \u001b[39m=\u001b[39m info_cache\u001b[39m.\u001b[39mget(key)\n\u001b[1;32m     54\u001b[0m \u001b[39mif\u001b[39;00m ret \u001b[39mis\u001b[39;00m \u001b[39mNone\u001b[39;00m:\n\u001b[0;32m---> 55\u001b[0m     ret \u001b[39m=\u001b[39m fn(\u001b[39mself\u001b[39;49m, con, \u001b[39m*\u001b[39;49margs, \u001b[39m*\u001b[39;49m\u001b[39m*\u001b[39;49mkw)\n\u001b[1;32m     56\u001b[0m     info_cache[key] \u001b[39m=\u001b[39m ret\n\u001b[1;32m     57\u001b[0m \u001b[39mreturn\u001b[39;00m ret\n",
      "File \u001b[0;32m~/anaconda3/envs/penguins/lib/python3.9/site-packages/sqlalchemy/dialects/mysql/base.py:2831\u001b[0m, in \u001b[0;36mMySQLDialect.get_table_options\u001b[0;34m(self, connection, table_name, schema, **kw)\u001b[0m\n\u001b[1;32m   2828\u001b[0m \u001b[39m@reflection\u001b[39m\u001b[39m.\u001b[39mcache\n\u001b[1;32m   2829\u001b[0m \u001b[39mdef\u001b[39;00m \u001b[39mget_table_options\u001b[39m(\u001b[39mself\u001b[39m, connection, table_name, schema\u001b[39m=\u001b[39m\u001b[39mNone\u001b[39;00m, \u001b[39m*\u001b[39m\u001b[39m*\u001b[39mkw):\n\u001b[0;32m-> 2831\u001b[0m     parsed_state \u001b[39m=\u001b[39m \u001b[39mself\u001b[39;49m\u001b[39m.\u001b[39;49m_parsed_state_or_create(\n\u001b[1;32m   2832\u001b[0m         connection, table_name, schema, \u001b[39m*\u001b[39;49m\u001b[39m*\u001b[39;49mkw\n\u001b[1;32m   2833\u001b[0m     )\n\u001b[1;32m   2834\u001b[0m     \u001b[39mreturn\u001b[39;00m parsed_state\u001b[39m.\u001b[39mtable_options\n",
      "File \u001b[0;32m~/anaconda3/envs/penguins/lib/python3.9/site-packages/sqlalchemy/dialects/mysql/base.py:3088\u001b[0m, in \u001b[0;36mMySQLDialect._parsed_state_or_create\u001b[0;34m(self, connection, table_name, schema, **kw)\u001b[0m\n\u001b[1;32m   3085\u001b[0m \u001b[39mdef\u001b[39;00m \u001b[39m_parsed_state_or_create\u001b[39m(\n\u001b[1;32m   3086\u001b[0m     \u001b[39mself\u001b[39m, connection, table_name, schema\u001b[39m=\u001b[39m\u001b[39mNone\u001b[39;00m, \u001b[39m*\u001b[39m\u001b[39m*\u001b[39mkw\n\u001b[1;32m   3087\u001b[0m ):\n\u001b[0;32m-> 3088\u001b[0m     \u001b[39mreturn\u001b[39;00m \u001b[39mself\u001b[39;49m\u001b[39m.\u001b[39;49m_setup_parser(\n\u001b[1;32m   3089\u001b[0m         connection,\n\u001b[1;32m   3090\u001b[0m         table_name,\n\u001b[1;32m   3091\u001b[0m         schema,\n\u001b[1;32m   3092\u001b[0m         info_cache\u001b[39m=\u001b[39;49mkw\u001b[39m.\u001b[39;49mget(\u001b[39m\"\u001b[39;49m\u001b[39minfo_cache\u001b[39;49m\u001b[39m\"\u001b[39;49m, \u001b[39mNone\u001b[39;49;00m),\n\u001b[1;32m   3093\u001b[0m     )\n",
      "File \u001b[0;32m<string>:2\u001b[0m, in \u001b[0;36m_setup_parser\u001b[0;34m(self, connection, table_name, schema, **kw)\u001b[0m\n",
      "File \u001b[0;32m~/anaconda3/envs/penguins/lib/python3.9/site-packages/sqlalchemy/engine/reflection.py:55\u001b[0m, in \u001b[0;36mcache\u001b[0;34m(fn, self, con, *args, **kw)\u001b[0m\n\u001b[1;32m     53\u001b[0m ret \u001b[39m=\u001b[39m info_cache\u001b[39m.\u001b[39mget(key)\n\u001b[1;32m     54\u001b[0m \u001b[39mif\u001b[39;00m ret \u001b[39mis\u001b[39;00m \u001b[39mNone\u001b[39;00m:\n\u001b[0;32m---> 55\u001b[0m     ret \u001b[39m=\u001b[39m fn(\u001b[39mself\u001b[39;49m, con, \u001b[39m*\u001b[39;49margs, \u001b[39m*\u001b[39;49m\u001b[39m*\u001b[39;49mkw)\n\u001b[1;32m     56\u001b[0m     info_cache[key] \u001b[39m=\u001b[39m ret\n\u001b[1;32m     57\u001b[0m \u001b[39mreturn\u001b[39;00m ret\n",
      "File \u001b[0;32m~/anaconda3/envs/penguins/lib/python3.9/site-packages/sqlalchemy/dialects/mysql/base.py:3115\u001b[0m, in \u001b[0;36mMySQLDialect._setup_parser\u001b[0;34m(self, connection, table_name, schema, **kw)\u001b[0m\n\u001b[1;32m   3109\u001b[0m parser \u001b[39m=\u001b[39m \u001b[39mself\u001b[39m\u001b[39m.\u001b[39m_tabledef_parser\n\u001b[1;32m   3110\u001b[0m full_name \u001b[39m=\u001b[39m \u001b[39m\"\u001b[39m\u001b[39m.\u001b[39m\u001b[39m\"\u001b[39m\u001b[39m.\u001b[39mjoin(\n\u001b[1;32m   3111\u001b[0m     \u001b[39mself\u001b[39m\u001b[39m.\u001b[39midentifier_preparer\u001b[39m.\u001b[39m_quote_free_identifiers(\n\u001b[1;32m   3112\u001b[0m         schema, table_name\n\u001b[1;32m   3113\u001b[0m     )\n\u001b[1;32m   3114\u001b[0m )\n\u001b[0;32m-> 3115\u001b[0m sql \u001b[39m=\u001b[39m \u001b[39mself\u001b[39;49m\u001b[39m.\u001b[39;49m_show_create_table(\n\u001b[1;32m   3116\u001b[0m     connection, \u001b[39mNone\u001b[39;49;00m, charset, full_name\u001b[39m=\u001b[39;49mfull_name\n\u001b[1;32m   3117\u001b[0m )\n\u001b[1;32m   3118\u001b[0m \u001b[39mif\u001b[39;00m parser\u001b[39m.\u001b[39m_check_view(sql):\n\u001b[1;32m   3119\u001b[0m     \u001b[39m# Adapt views to something table-like.\u001b[39;00m\n\u001b[1;32m   3120\u001b[0m     columns \u001b[39m=\u001b[39m \u001b[39mself\u001b[39m\u001b[39m.\u001b[39m_describe_table(\n\u001b[1;32m   3121\u001b[0m         connection, \u001b[39mNone\u001b[39;00m, charset, full_name\u001b[39m=\u001b[39mfull_name\n\u001b[1;32m   3122\u001b[0m     )\n",
      "File \u001b[0;32m~/anaconda3/envs/penguins/lib/python3.9/site-packages/sqlalchemy/dialects/mysql/base.py:3226\u001b[0m, in \u001b[0;36mMySQLDialect._show_create_table\u001b[0;34m(self, connection, table, charset, full_name)\u001b[0m\n\u001b[1;32m   3224\u001b[0m \u001b[39mexcept\u001b[39;00m exc\u001b[39m.\u001b[39mDBAPIError \u001b[39mas\u001b[39;00m e:\n\u001b[1;32m   3225\u001b[0m     \u001b[39mif\u001b[39;00m \u001b[39mself\u001b[39m\u001b[39m.\u001b[39m_extract_error_code(e\u001b[39m.\u001b[39morig) \u001b[39m==\u001b[39m \u001b[39m1146\u001b[39m:\n\u001b[0;32m-> 3226\u001b[0m         util\u001b[39m.\u001b[39;49mraise_(exc\u001b[39m.\u001b[39;49mNoSuchTableError(full_name), replace_context\u001b[39m=\u001b[39;49me)\n\u001b[1;32m   3227\u001b[0m     \u001b[39melse\u001b[39;00m:\n\u001b[1;32m   3228\u001b[0m         \u001b[39mraise\u001b[39;00m\n",
      "File \u001b[0;32m~/anaconda3/envs/penguins/lib/python3.9/site-packages/sqlalchemy/util/compat.py:211\u001b[0m, in \u001b[0;36mraise_\u001b[0;34m(***failed resolving arguments***)\u001b[0m\n\u001b[1;32m    208\u001b[0m     exception\u001b[39m.\u001b[39m__cause__ \u001b[39m=\u001b[39m replace_context\n\u001b[1;32m    210\u001b[0m \u001b[39mtry\u001b[39;00m:\n\u001b[0;32m--> 211\u001b[0m     \u001b[39mraise\u001b[39;00m exception\n\u001b[1;32m    212\u001b[0m \u001b[39mfinally\u001b[39;00m:\n\u001b[1;32m    213\u001b[0m     \u001b[39m# credit to\u001b[39;00m\n\u001b[1;32m    214\u001b[0m     \u001b[39m# https://cosmicpercolator.com/2016/01/13/exception-leaks-in-python-2-and-3/\u001b[39;00m\n\u001b[1;32m    215\u001b[0m     \u001b[39m# as the __traceback__ object creates a cycle\u001b[39;00m\n\u001b[1;32m    216\u001b[0m     \u001b[39mdel\u001b[39;00m exception, replace_context, from_, with_traceback\n",
      "\u001b[0;31mNoSuchTableError\u001b[0m: `covertype_data_inference`"
     ]
    }
   ],
   "source": [
    "from sqlalchemy import MetaData, Table\n",
    "\n",
    "metadata = MetaData(bind=engine)\n",
    "\n",
    "# Obtener la tabla 'covertype_data_inference'\n",
    "table = Table('covertype_data_inference', metadata, autoload=True, autoload_with=engine)\n",
    "\n",
    "# Obtener las columnas de la tabla\n",
    "columns = table.columns\n",
    "\n",
    "# Mostrar las columnas\n",
    "for column in columns:\n",
    "    print(column.name, column.type)"
   ]
  },
  {
   "cell_type": "code",
   "execution_count": 11,
   "metadata": {},
   "outputs": [
    {
     "name": "stdout",
     "output_type": "stream",
     "text": [
      "4 0 0 0 0 0 0 0 0\n",
      "5 3 5 6 0 7 0 0 0\n",
      "6 3 5 6 0 7 0 0 0\n",
      "7 3 5 6 0 7 0 0 0\n",
      "8 0 3 0 0 0 0 0 0\n"
     ]
    }
   ],
   "source": [
    "# Crear una sesión de base de datos\n",
    "db = SessionLocal()\n",
    "\n",
    "# Ejecutar una consulta SELECT para obtener todos los registros de la tabla\n",
    "results = db.query(CoverTypeTable).all()\n",
    "\n",
    "# Iterar sobre los resultados y imprimirlos en la consola\n",
    "for result in results:\n",
    "    print(result.id, result.Elevation, result.Slope, result.Horizontal_Distance_To_Hydrology, result.Vertical_Distance_To_Hydrology, result.Horizontal_Distance_To_Roadways, result.Hillshade_9am, result.Hillshade_Noon, result.Horizontal_Distance_To_Fire_Points)"
   ]
  },
  {
   "cell_type": "code",
   "execution_count": 59,
   "metadata": {},
   "outputs": [
    {
     "ename": "InvalidRequestError",
     "evalue": "Table 'covertype_data_inference' is already defined for this MetaData instance.  Specify 'extend_existing=True' to redefine options and columns on an existing Table object.",
     "output_type": "error",
     "traceback": [
      "\u001b[0;31m---------------------------------------------------------------------------\u001b[0m",
      "\u001b[0;31mInvalidRequestError\u001b[0m                       Traceback (most recent call last)",
      "Cell \u001b[0;32mIn[59], line 2\u001b[0m\n\u001b[1;32m      1\u001b[0m \u001b[39m# Definición de la clase para la tabla de covertype\u001b[39;00m\n\u001b[0;32m----> 2\u001b[0m \u001b[39mclass\u001b[39;00m \u001b[39mCoverType\u001b[39;00m(Base):\n\u001b[1;32m      3\u001b[0m     __tablename__ \u001b[39m=\u001b[39m \u001b[39m\"\u001b[39m\u001b[39mcovertype_data_inference\u001b[39m\u001b[39m\"\u001b[39m\n\u001b[1;32m      4\u001b[0m     \u001b[39mid\u001b[39m \u001b[39m=\u001b[39m Column(Integer, primary_key\u001b[39m=\u001b[39m\u001b[39mTrue\u001b[39;00m, index\u001b[39m=\u001b[39m\u001b[39mTrue\u001b[39;00m)\n",
      "File \u001b[0;32m~/anaconda3/envs/penguins/lib/python3.9/site-packages/sqlalchemy/orm/decl_api.py:76\u001b[0m, in \u001b[0;36mDeclarativeMeta.__init__\u001b[0;34m(cls, classname, bases, dict_, **kw)\u001b[0m\n\u001b[1;32m     73\u001b[0m         \u001b[39mcls\u001b[39m\u001b[39m.\u001b[39m_sa_registry \u001b[39m=\u001b[39m reg\n\u001b[1;32m     75\u001b[0m \u001b[39mif\u001b[39;00m \u001b[39mnot\u001b[39;00m \u001b[39mcls\u001b[39m\u001b[39m.\u001b[39m\u001b[39m__dict__\u001b[39m\u001b[39m.\u001b[39mget(\u001b[39m\"\u001b[39m\u001b[39m__abstract__\u001b[39m\u001b[39m\"\u001b[39m, \u001b[39mFalse\u001b[39;00m):\n\u001b[0;32m---> 76\u001b[0m     _as_declarative(reg, \u001b[39mcls\u001b[39;49m, dict_)\n\u001b[1;32m     77\u001b[0m \u001b[39mtype\u001b[39m\u001b[39m.\u001b[39m\u001b[39m__init__\u001b[39m(\u001b[39mcls\u001b[39m, classname, bases, dict_)\n",
      "File \u001b[0;32m~/anaconda3/envs/penguins/lib/python3.9/site-packages/sqlalchemy/orm/decl_base.py:126\u001b[0m, in \u001b[0;36m_as_declarative\u001b[0;34m(registry, cls, dict_)\u001b[0m\n\u001b[1;32m    121\u001b[0m \u001b[39mdef\u001b[39;00m \u001b[39m_as_declarative\u001b[39m(registry, \u001b[39mcls\u001b[39m, dict_):\n\u001b[1;32m    122\u001b[0m \n\u001b[1;32m    123\u001b[0m     \u001b[39m# declarative scans the class for attributes.  no table or mapper\u001b[39;00m\n\u001b[1;32m    124\u001b[0m     \u001b[39m# args passed separately.\u001b[39;00m\n\u001b[0;32m--> 126\u001b[0m     \u001b[39mreturn\u001b[39;00m _MapperConfig\u001b[39m.\u001b[39;49msetup_mapping(registry, \u001b[39mcls\u001b[39;49m, dict_, \u001b[39mNone\u001b[39;49;00m, {})\n",
      "File \u001b[0;32m~/anaconda3/envs/penguins/lib/python3.9/site-packages/sqlalchemy/orm/decl_base.py:183\u001b[0m, in \u001b[0;36m_MapperConfig.setup_mapping\u001b[0;34m(cls, registry, cls_, dict_, table, mapper_kw)\u001b[0m\n\u001b[1;32m    180\u001b[0m \u001b[39melse\u001b[39;00m:\n\u001b[1;32m    181\u001b[0m     cfg_cls \u001b[39m=\u001b[39m _ClassScanMapperConfig\n\u001b[0;32m--> 183\u001b[0m \u001b[39mreturn\u001b[39;00m cfg_cls(registry, cls_, dict_, table, mapper_kw)\n",
      "File \u001b[0;32m~/anaconda3/envs/penguins/lib/python3.9/site-packages/sqlalchemy/orm/decl_base.py:331\u001b[0m, in \u001b[0;36m_ClassScanMapperConfig.__init__\u001b[0;34m(self, registry, cls_, dict_, table, mapper_kw)\u001b[0m\n\u001b[1;32m    327\u001b[0m \u001b[39mself\u001b[39m\u001b[39m.\u001b[39m_extract_mappable_attributes()\n\u001b[1;32m    329\u001b[0m \u001b[39mself\u001b[39m\u001b[39m.\u001b[39m_extract_declared_columns()\n\u001b[0;32m--> 331\u001b[0m \u001b[39mself\u001b[39;49m\u001b[39m.\u001b[39;49m_setup_table(table)\n\u001b[1;32m    333\u001b[0m \u001b[39mself\u001b[39m\u001b[39m.\u001b[39m_setup_inheritance(mapper_kw)\n\u001b[1;32m    335\u001b[0m \u001b[39mself\u001b[39m\u001b[39m.\u001b[39m_early_mapping(mapper_kw)\n",
      "File \u001b[0;32m~/anaconda3/envs/penguins/lib/python3.9/site-packages/sqlalchemy/orm/decl_base.py:854\u001b[0m, in \u001b[0;36m_ClassScanMapperConfig._setup_table\u001b[0;34m(self, table)\u001b[0m\n\u001b[1;32m    849\u001b[0m         \u001b[39mif\u001b[39;00m autoload:\n\u001b[1;32m    850\u001b[0m             table_kw[\u001b[39m\"\u001b[39m\u001b[39mautoload\u001b[39m\u001b[39m\"\u001b[39m] \u001b[39m=\u001b[39m \u001b[39mTrue\u001b[39;00m\n\u001b[1;32m    852\u001b[0m         table \u001b[39m=\u001b[39m \u001b[39mself\u001b[39m\u001b[39m.\u001b[39mset_cls_attribute(\n\u001b[1;32m    853\u001b[0m             \u001b[39m\"\u001b[39m\u001b[39m__table__\u001b[39m\u001b[39m\"\u001b[39m,\n\u001b[0;32m--> 854\u001b[0m             table_cls(\n\u001b[1;32m    855\u001b[0m                 tablename,\n\u001b[1;32m    856\u001b[0m                 \u001b[39mself\u001b[39;49m\u001b[39m.\u001b[39;49m_metadata_for_cls(manager),\n\u001b[1;32m    857\u001b[0m                 \u001b[39m*\u001b[39;49m(\u001b[39mtuple\u001b[39;49m(declared_columns) \u001b[39m+\u001b[39;49m \u001b[39mtuple\u001b[39;49m(args)),\n\u001b[1;32m    858\u001b[0m                 \u001b[39m*\u001b[39;49m\u001b[39m*\u001b[39;49mtable_kw\n\u001b[1;32m    859\u001b[0m             ),\n\u001b[1;32m    860\u001b[0m         )\n\u001b[1;32m    861\u001b[0m \u001b[39melse\u001b[39;00m:\n\u001b[1;32m    862\u001b[0m     \u001b[39mif\u001b[39;00m table \u001b[39mis\u001b[39;00m \u001b[39mNone\u001b[39;00m:\n",
      "File \u001b[0;32m<string>:2\u001b[0m, in \u001b[0;36m__new__\u001b[0;34m(cls, *args, **kw)\u001b[0m\n",
      "File \u001b[0;32m~/anaconda3/envs/penguins/lib/python3.9/site-packages/sqlalchemy/util/deprecations.py:375\u001b[0m, in \u001b[0;36mdeprecated_params.<locals>.decorate.<locals>.warned\u001b[0;34m(fn, *args, **kwargs)\u001b[0m\n\u001b[1;32m    368\u001b[0m     \u001b[39mif\u001b[39;00m m \u001b[39min\u001b[39;00m kwargs:\n\u001b[1;32m    369\u001b[0m         _warn_with_version(\n\u001b[1;32m    370\u001b[0m             messages[m],\n\u001b[1;32m    371\u001b[0m             versions[m],\n\u001b[1;32m    372\u001b[0m             version_warnings[m],\n\u001b[1;32m    373\u001b[0m             stacklevel\u001b[39m=\u001b[39m\u001b[39m3\u001b[39m,\n\u001b[1;32m    374\u001b[0m         )\n\u001b[0;32m--> 375\u001b[0m \u001b[39mreturn\u001b[39;00m fn(\u001b[39m*\u001b[39;49margs, \u001b[39m*\u001b[39;49m\u001b[39m*\u001b[39;49mkwargs)\n",
      "File \u001b[0;32m~/anaconda3/envs/penguins/lib/python3.9/site-packages/sqlalchemy/sql/schema.py:596\u001b[0m, in \u001b[0;36mTable.__new__\u001b[0;34m(cls, *args, **kw)\u001b[0m\n\u001b[1;32m    594\u001b[0m \u001b[39mif\u001b[39;00m key \u001b[39min\u001b[39;00m metadata\u001b[39m.\u001b[39mtables:\n\u001b[1;32m    595\u001b[0m     \u001b[39mif\u001b[39;00m \u001b[39mnot\u001b[39;00m keep_existing \u001b[39mand\u001b[39;00m \u001b[39mnot\u001b[39;00m extend_existing \u001b[39mand\u001b[39;00m \u001b[39mbool\u001b[39m(args):\n\u001b[0;32m--> 596\u001b[0m         \u001b[39mraise\u001b[39;00m exc\u001b[39m.\u001b[39mInvalidRequestError(\n\u001b[1;32m    597\u001b[0m             \u001b[39m\"\u001b[39m\u001b[39mTable \u001b[39m\u001b[39m'\u001b[39m\u001b[39m%s\u001b[39;00m\u001b[39m'\u001b[39m\u001b[39m is already defined for this MetaData \u001b[39m\u001b[39m\"\u001b[39m\n\u001b[1;32m    598\u001b[0m             \u001b[39m\"\u001b[39m\u001b[39minstance.  Specify \u001b[39m\u001b[39m'\u001b[39m\u001b[39mextend_existing=True\u001b[39m\u001b[39m'\u001b[39m\u001b[39m \u001b[39m\u001b[39m\"\u001b[39m\n\u001b[1;32m    599\u001b[0m             \u001b[39m\"\u001b[39m\u001b[39mto redefine \u001b[39m\u001b[39m\"\u001b[39m\n\u001b[1;32m    600\u001b[0m             \u001b[39m\"\u001b[39m\u001b[39moptions and columns on an \u001b[39m\u001b[39m\"\u001b[39m\n\u001b[1;32m    601\u001b[0m             \u001b[39m\"\u001b[39m\u001b[39mexisting Table object.\u001b[39m\u001b[39m\"\u001b[39m \u001b[39m%\u001b[39m key\n\u001b[1;32m    602\u001b[0m         )\n\u001b[1;32m    603\u001b[0m     table \u001b[39m=\u001b[39m metadata\u001b[39m.\u001b[39mtables[key]\n\u001b[1;32m    604\u001b[0m     \u001b[39mif\u001b[39;00m extend_existing:\n",
      "\u001b[0;31mInvalidRequestError\u001b[0m: Table 'covertype_data_inference' is already defined for this MetaData instance.  Specify 'extend_existing=True' to redefine options and columns on an existing Table object."
     ]
    }
   ],
   "source": [
    "# Definición de la clase para la tabla de covertype\n",
    "class CoverType(Base):\n",
    "    __tablename__ = \"covertype_data_inference\"\n",
    "    id = Column(Integer, primary_key=True, index=True)\n",
    "    Elevation = Column(Integer)\n",
    "    Slope = Column(Integer)\n",
    "    Horizontal_Distance_To_Hydrology = Column(Integer)\n",
    "    Vertical_Distance_To_Hydrology = Column(Integer)\n",
    "    Horizontal_Distance_To_Roadways = Column(Integer)\n",
    "    Hillshade_9am = Column(Integer)\n",
    "    Hillshade_Noon = Column(Integer)\n",
    "    Horizontal_Distance_To_Fire_Points = Column(Integer)"
   ]
  },
  {
   "cell_type": "code",
   "execution_count": 31,
   "metadata": {},
   "outputs": [],
   "source": [
    "# Crear la base de datos si no existe\n",
    "if not database_exists(engine.url):\n",
    "    create_database(engine.url)"
   ]
  },
  {
   "cell_type": "code",
   "execution_count": 32,
   "metadata": {},
   "outputs": [],
   "source": [
    "# Creación de la tabla de penguins en la base de datos\n",
    "Base.metadata.create_all(bind=engine)"
   ]
  },
  {
   "cell_type": "code",
   "execution_count": 43,
   "metadata": {},
   "outputs": [
    {
     "ename": "UnmappedInstanceError",
     "evalue": "Class '__main__.CoverTypeData' is not mapped",
     "output_type": "error",
     "traceback": [
      "\u001b[0;31m---------------------------------------------------------------------------\u001b[0m",
      "\u001b[0;31mAttributeError\u001b[0m                            Traceback (most recent call last)",
      "File \u001b[0;32m~/anaconda3/envs/penguins/lib/python3.9/site-packages/sqlalchemy/orm/session.py:2638\u001b[0m, in \u001b[0;36mSession.add\u001b[0;34m(self, instance, _warn)\u001b[0m\n\u001b[1;32m   2637\u001b[0m \u001b[39mtry\u001b[39;00m:\n\u001b[0;32m-> 2638\u001b[0m     state \u001b[39m=\u001b[39m attributes\u001b[39m.\u001b[39;49minstance_state(instance)\n\u001b[1;32m   2639\u001b[0m \u001b[39mexcept\u001b[39;00m exc\u001b[39m.\u001b[39mNO_STATE \u001b[39mas\u001b[39;00m err:\n",
      "\u001b[0;31mAttributeError\u001b[0m: 'CoverTypeData' object has no attribute '_sa_instance_state'",
      "\nThe above exception was the direct cause of the following exception:\n",
      "\u001b[0;31mUnmappedInstanceError\u001b[0m                     Traceback (most recent call last)",
      "Cell \u001b[0;32mIn[43], line 68\u001b[0m\n\u001b[1;32m     57\u001b[0m db \u001b[39m=\u001b[39m SessionLocal()\n\u001b[1;32m     58\u001b[0m db_penguin \u001b[39m=\u001b[39m CoverTypeData(\n\u001b[1;32m     59\u001b[0m     Elevation \u001b[39m=\u001b[39m \u001b[39m1\u001b[39m,\n\u001b[1;32m     60\u001b[0m     Slope \u001b[39m=\u001b[39m  \u001b[39m1\u001b[39m,\n\u001b[0;32m   (...)\u001b[0m\n\u001b[1;32m     66\u001b[0m     Horizontal_Distance_To_Fire_Points \u001b[39m=\u001b[39m  \u001b[39m1\u001b[39m\n\u001b[1;32m     67\u001b[0m )\n\u001b[0;32m---> 68\u001b[0m db\u001b[39m.\u001b[39;49madd(db_penguin)\n\u001b[1;32m     69\u001b[0m db\u001b[39m.\u001b[39mcommit()\n\u001b[1;32m     70\u001b[0m db\u001b[39m.\u001b[39mrefresh(db_penguin)\n",
      "File \u001b[0;32m~/anaconda3/envs/penguins/lib/python3.9/site-packages/sqlalchemy/orm/session.py:2640\u001b[0m, in \u001b[0;36mSession.add\u001b[0;34m(self, instance, _warn)\u001b[0m\n\u001b[1;32m   2638\u001b[0m     state \u001b[39m=\u001b[39m attributes\u001b[39m.\u001b[39minstance_state(instance)\n\u001b[1;32m   2639\u001b[0m \u001b[39mexcept\u001b[39;00m exc\u001b[39m.\u001b[39mNO_STATE \u001b[39mas\u001b[39;00m err:\n\u001b[0;32m-> 2640\u001b[0m     util\u001b[39m.\u001b[39;49mraise_(\n\u001b[1;32m   2641\u001b[0m         exc\u001b[39m.\u001b[39;49mUnmappedInstanceError(instance),\n\u001b[1;32m   2642\u001b[0m         replace_context\u001b[39m=\u001b[39;49merr,\n\u001b[1;32m   2643\u001b[0m     )\n\u001b[1;32m   2645\u001b[0m \u001b[39mself\u001b[39m\u001b[39m.\u001b[39m_save_or_update_state(state)\n",
      "File \u001b[0;32m~/anaconda3/envs/penguins/lib/python3.9/site-packages/sqlalchemy/util/compat.py:211\u001b[0m, in \u001b[0;36mraise_\u001b[0;34m(***failed resolving arguments***)\u001b[0m\n\u001b[1;32m    208\u001b[0m     exception\u001b[39m.\u001b[39m__cause__ \u001b[39m=\u001b[39m replace_context\n\u001b[1;32m    210\u001b[0m \u001b[39mtry\u001b[39;00m:\n\u001b[0;32m--> 211\u001b[0m     \u001b[39mraise\u001b[39;00m exception\n\u001b[1;32m    212\u001b[0m \u001b[39mfinally\u001b[39;00m:\n\u001b[1;32m    213\u001b[0m     \u001b[39m# credit to\u001b[39;00m\n\u001b[1;32m    214\u001b[0m     \u001b[39m# https://cosmicpercolator.com/2016/01/13/exception-leaks-in-python-2-and-3/\u001b[39;00m\n\u001b[1;32m    215\u001b[0m     \u001b[39m# as the __traceback__ object creates a cycle\u001b[39;00m\n\u001b[1;32m    216\u001b[0m     \u001b[39mdel\u001b[39;00m exception, replace_context, from_, with_traceback\n",
      "\u001b[0;31mUnmappedInstanceError\u001b[0m: Class '__main__.CoverTypeData' is not mapped"
     ]
    }
   ],
   "source": [
    "from sqlalchemy import create_engine, Column, Integer, String\n",
    "from sqlalchemy.ext.declarative import declarative_base\n",
    "from sqlalchemy.orm import sessionmaker\n",
    "from sqlalchemy_utils import database_exists, create_database\n",
    "from pydantic import BaseModel\n",
    "\n",
    "database_username = 'root'\n",
    "database_password = 'topicosIA'\n",
    "database_host = '10.43.102.112'\n",
    "database_port = '3306'\n",
    "database_name = 'database_z'\n",
    "\n",
    "# Conexión a la base de datos\n",
    "connection_string = f\"mysql+pymysql://{database_username}:{database_password}@{database_host}:{database_port}/{database_name}\"\n",
    "engine = create_engine(connection_string)\n",
    "\n",
    "\n",
    "# Definición de la sesión\n",
    "SessionLocal = sessionmaker(bind=engine)\n",
    "# Definición de la clase base para las clases de la base de datos\n",
    "Base = declarative_base()\n",
    "\n",
    "# Definición de la clase para la tabla de covertype\n",
    "class CoverType(Base):\n",
    "    __tablename__ = \"covertype_data_inference\"\n",
    "    id = Column(Integer, primary_key=True, index=True)\n",
    "    Elevation = Column(Integer)\n",
    "    Slope = Column(Integer)\n",
    "    Horizontal_Distance_To_Hydrology = Column(Integer)\n",
    "    Vertical_Distance_To_Hydrology = Column(Integer)\n",
    "    Horizontal_Distance_To_Roadways = Column(Integer)\n",
    "    Hillshade_9am = Column(Integer)\n",
    "    Hillshade_Noon = Column(Integer)\n",
    "    Horizontal_Distance_To_Fire_Points = Column(Integer)\n",
    "\n",
    "\n",
    "# Crear la base de datos si no existe\n",
    "if not database_exists(engine.url):\n",
    "    create_database(engine.url)\n",
    "\n",
    "\n",
    "# Creación de la tabla de penguins en la base de datos\n",
    "Base.metadata.create_all(bind=engine)\n",
    "\n",
    "# Definir el esquema de entrada de datos\n",
    "class CoverTypeCreate(BaseModel):\n",
    "    Elevation: 1\n",
    "    Slope: 1\n",
    "    Horizontal_Distance_To_Hydrology: 1\n",
    "    Vertical_Distance_To_Hydrology: 1\n",
    "    Horizontal_Distance_To_Roadways: 1\n",
    "    Hillshade_9am: 1\n",
    "    Hillshade_Noon: 1\n",
    "    Horizontal_Distance_To_Fire_Points: 1\n",
    "\n",
    "\n",
    "db = SessionLocal()\n",
    "db_penguin = CoverTypeTable(\n",
    "    Elevation = 1,\n",
    "    Slope =  1,\n",
    "    Horizontal_Distance_To_Hydrology =  1 ,\n",
    "    Vertical_Distance_To_Hydrology =  1,\n",
    "    Horizontal_Distance_To_Roadways =  1 ,\n",
    "    Hillshade_9am =  1,\n",
    "    Hillshade_Noon =  1,\n",
    "    Horizontal_Distance_To_Fire_Points =  1\n",
    ")\n",
    "db.add(db_penguin)\n",
    "db.commit()\n",
    "db.refresh(db_penguin)"
   ]
  },
  {
   "cell_type": "code",
   "execution_count": 36,
   "metadata": {},
   "outputs": [],
   "source": [
    "df = pd.read_csv('data/covertype_train.csv')"
   ]
  },
  {
   "cell_type": "code",
   "execution_count": 42,
   "metadata": {},
   "outputs": [
    {
     "data": {
      "text/plain": [
       "0         2991\n",
       "1         2876\n",
       "2         3171\n",
       "3         3087\n",
       "4         2835\n",
       "          ... \n",
       "116198    3150\n",
       "116199    3125\n",
       "116200    3166\n",
       "116201    3154\n",
       "116202    3031\n",
       "Name: Elevation, Length: 116203, dtype: int64"
      ]
     },
     "execution_count": 42,
     "metadata": {},
     "output_type": "execute_result"
    }
   ],
   "source": [
    "df"
   ]
  }
 ],
 "metadata": {
  "kernelspec": {
   "display_name": "penguins",
   "language": "python",
   "name": "python3"
  },
  "language_info": {
   "codemirror_mode": {
    "name": "ipython",
    "version": 3
   },
   "file_extension": ".py",
   "mimetype": "text/x-python",
   "name": "python",
   "nbconvert_exporter": "python",
   "pygments_lexer": "ipython3",
   "version": "3.9.0"
  },
  "orig_nbformat": 4
 },
 "nbformat": 4,
 "nbformat_minor": 2
}
